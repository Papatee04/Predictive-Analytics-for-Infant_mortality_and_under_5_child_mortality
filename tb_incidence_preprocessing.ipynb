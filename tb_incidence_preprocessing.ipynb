{
 "cells": [
  {
   "cell_type": "code",
   "execution_count": 3,
   "metadata": {},
   "outputs": [
    {
     "name": "stdout",
     "output_type": "stream",
     "text": [
      "  country_name  year iso3_code  fragility  fragilityindex g_whoregion  \\\n",
      "0       Zambia  2000       ZMB  Neighbour            87.2         AFR   \n",
      "1       Zambia  2001       ZMB  Neighbour            87.2         AFR   \n",
      "2       Zambia  2002       ZMB  Neighbour            87.2         AFR   \n",
      "3       Zambia  2003       ZMB  Neighbour            87.2         AFR   \n",
      "4       Zambia  2004       ZMB  Neighbour            87.2         AFR   \n",
      "\n",
      "   gendertool gf_eligible_2016 gf_eligible_2018    globalplangroup  ...  \\\n",
      "0         NaN              Yes              Yes  High TB-HIV, SADC  ...   \n",
      "1         NaN              Yes              Yes  High TB-HIV, SADC  ...   \n",
      "2         NaN              Yes              Yes  High TB-HIV, SADC  ...   \n",
      "3         NaN              Yes              Yes  High TB-HIV, SADC  ...   \n",
      "4         NaN              Yes              Yes  High TB-HIV, SADC  ...   \n",
      "\n",
      "   used_2021_defs_flg xdr xdr_coh xdr_died  xdr_fail xdr_lost  xdr_succ xpert  \\\n",
      "0                 NaN NaN     NaN      NaN       NaN      NaN       NaN   NaN   \n",
      "1                 NaN NaN     NaN      NaN       NaN      NaN       NaN   NaN   \n",
      "2                 NaN NaN     NaN      NaN       NaN      NaN       NaN   NaN   \n",
      "3                 NaN NaN     NaN      NaN       NaN      NaN       NaN   NaN   \n",
      "4                 NaN NaN     NaN      NaN       NaN      NaN       NaN   NaN   \n",
      "\n",
      "   xpert_eqa  xpert_etrans  \n",
      "0        NaN           NaN  \n",
      "1        NaN           NaN  \n",
      "2        NaN           NaN  \n",
      "3        NaN           NaN  \n",
      "4        NaN           NaN  \n",
      "\n",
      "[5 rows x 934 columns]\n"
     ]
    }
   ],
   "source": [
    "import pandas as pd\n",
    "import numpy as np\n",
    "\n",
    "# Using pandas to load the CSV file into a DataFrame.\n",
    "# Inspecting the first few rows to understand the structure and content.\n",
    "df = pd.read_csv('stop_tb_data2.csv')\n",
    "print(df.head())\n",
    "\n"
   ]
  },
  {
   "cell_type": "code",
   "execution_count": 4,
   "metadata": {},
   "outputs": [
    {
     "name": "stdout",
     "output_type": "stream",
     "text": [
      "country_name       0\n",
      "year               0\n",
      "iso3_code          0\n",
      "fragility          0\n",
      "fragilityindex     0\n",
      "                  ..\n",
      "xdr_lost          20\n",
      "xdr_succ          20\n",
      "xpert             23\n",
      "xpert_eqa         23\n",
      "xpert_etrans      23\n",
      "Length: 934, dtype: int64\n",
      "country_name       0.000000\n",
      "year               0.000000\n",
      "iso3_code          0.000000\n",
      "fragility          0.000000\n",
      "fragilityindex     0.000000\n",
      "                    ...    \n",
      "xdr_lost          71.428571\n",
      "xdr_succ          71.428571\n",
      "xpert             82.142857\n",
      "xpert_eqa         82.142857\n",
      "xpert_etrans      82.142857\n",
      "Length: 934, dtype: float64\n"
     ]
    }
   ],
   "source": [
    "# Checking the number of missing values per column\n",
    "missing_values_count = df.isnull().sum()\n",
    "\n",
    "# Checking the percentage of missing values per column\n",
    "missing_values_percentage = df.isnull().mean() * 100\n",
    "\n",
    "# Print results\n",
    "print(missing_values_count)\n",
    "print(missing_values_percentage)\n"
   ]
  },
  {
   "cell_type": "code",
   "execution_count": 6,
   "metadata": {},
   "outputs": [
    {
     "ename": "NameError",
     "evalue": "name 'np' is not defined",
     "output_type": "error",
     "traceback": [
      "\u001b[1;31m---------------------------------------------------------------------------\u001b[0m",
      "\u001b[1;31mNameError\u001b[0m                                 Traceback (most recent call last)",
      "Cell \u001b[1;32mIn[6], line 5\u001b[0m\n\u001b[0;32m      2\u001b[0m df \u001b[38;5;241m=\u001b[39m df\u001b[38;5;241m.\u001b[39mdropna(thresh\u001b[38;5;241m=\u001b[39m\u001b[38;5;28mlen\u001b[39m(df) \u001b[38;5;241m*\u001b[39m \u001b[38;5;241m0.5\u001b[39m, axis\u001b[38;5;241m=\u001b[39m\u001b[38;5;241m1\u001b[39m)\n\u001b[0;32m      4\u001b[0m \u001b[38;5;66;03m# Filling missing values with median for numerical columns\u001b[39;00m\n\u001b[1;32m----> 5\u001b[0m numeric_columns \u001b[38;5;241m=\u001b[39m df\u001b[38;5;241m.\u001b[39mselect_dtypes(include\u001b[38;5;241m=\u001b[39m[\u001b[43mnp\u001b[49m\u001b[38;5;241m.\u001b[39mnumber])\u001b[38;5;241m.\u001b[39mcolumns\n\u001b[0;32m      6\u001b[0m df[numeric_columns] \u001b[38;5;241m=\u001b[39m df[numeric_columns]\u001b[38;5;241m.\u001b[39mfillna(df[numeric_columns]\u001b[38;5;241m.\u001b[39mmedian())\n",
      "\u001b[1;31mNameError\u001b[0m: name 'np' is not defined"
     ]
    }
   ],
   "source": [
    "# Dropping columns with more than 50% missing values\n",
    "\n",
    "\n",
    "df = df.dropna(thresh=len(df) * 0.5, axis=1)\n",
    "\n",
    "# Filling missing values with median for numerical columns\n",
    "numeric_columns = df.select_dtypes(include=[np.number]).columns\n",
    "df[numeric_columns] = df[numeric_columns].fillna(df[numeric_columns].median())\n"
   ]
  }
 ],
 "metadata": {
  "kernelspec": {
   "display_name": "tbvenv",
   "language": "python",
   "name": "python3"
  },
  "language_info": {
   "codemirror_mode": {
    "name": "ipython",
    "version": 3
   },
   "file_extension": ".py",
   "mimetype": "text/x-python",
   "name": "python",
   "nbconvert_exporter": "python",
   "pygments_lexer": "ipython3",
   "version": "3.12.2"
  }
 },
 "nbformat": 4,
 "nbformat_minor": 2
}
