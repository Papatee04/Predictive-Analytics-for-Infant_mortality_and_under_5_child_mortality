{
 "cells": [
  {
   "cell_type": "code",
   "execution_count": null,
   "metadata": {},
   "outputs": [],
   "source": [
    "import pandas as pd\n",
    "import numpy as np\n",
    "import seaborn as sns\n",
    "import matplotlib.pyplot as plt\n",
    "\n",
    "# Using pandas to load the CSV file into a DataFrame.\n",
    "# Inspecting the first few rows to understand the structure and content.\n",
    "df = pd.read_csv('stop_tb_data2.csv')\n",
    "print(df.head())\n",
    "\n"
   ]
  },
  {
   "cell_type": "code",
   "execution_count": null,
   "metadata": {},
   "outputs": [],
   "source": [
    "# Checking the number of missing values per column\n",
    "missing_values_count = df.isnull().sum()\n",
    "\n",
    "# Checking the percentage of missing values per column\n",
    "missing_values_percentage = df.isnull().mean() * 100\n",
    "\n",
    "# Print results\n",
    "print(missing_values_count)\n",
    "print(missing_values_percentage)\n"
   ]
  },
  {
   "cell_type": "code",
   "execution_count": null,
   "metadata": {},
   "outputs": [],
   "source": [
    "# Dropping columns with more than 50% missing values\n",
    "\n",
    "\n",
    "df = df.dropna(thresh=len(df) * 0.5, axis=1)\n",
    "\n",
    "# Filling missing values with median for numerical columns\n",
    "numeric_columns = df.select_dtypes(include=[np.number]).columns\n",
    "df[numeric_columns] = df[numeric_columns].fillna(df[numeric_columns].median())\n"
   ]
  },
  {
   "cell_type": "code",
   "execution_count": null,
   "metadata": {},
   "outputs": [],
   "source": [
    "# Checking the number of missing values per column again\n",
    "missing_values_count = df.isnull().sum()\n",
    "\n",
    "# Checking the percentage of missing values per column again\n",
    "missing_values_percentage = df.isnull().mean() * 100\n",
    "\n",
    "# Print results\n",
    "print(missing_values_count)\n",
    "print(missing_values_percentage)\n"
   ]
  },
  {
   "cell_type": "code",
   "execution_count": null,
   "metadata": {},
   "outputs": [],
   "source": [
    "# Display the first few rows of the dataframe\n",
    "print(df.head())\n",
    "\n",
    "# Display a summary of the dataframe to check data types and non-null counts\n",
    "print(df.info())\n"
   ]
  },
  {
   "cell_type": "code",
   "execution_count": null,
   "metadata": {},
   "outputs": [],
   "source": [
    "# Drop non-numeric or irrelevant columns\n",
    "df_filtered = df.drop(columns=['country_name', 'iso3_code', 'g_whoregion'])\n",
    "\n",
    "# Convert remaining categorical columns to numeric using one-hot encoding\n",
    "df_numeric = pd.get_dummies(df_filtered, drop_first=True)\n",
    "\n",
    "# Calculate the correlation matrix\n",
    "correlation_matrix = df_numeric.corr()\n",
    "\n",
    "# Create a heatmap to visualize the correlation matrix\n",
    "plt.figure(figsize=(20, 15))\n",
    "sns.heatmap(correlation_matrix, annot=True, cmap='coolwarm', fmt='.2f', linewidths=0.5)\n",
    "plt.title('Correlation Matrix')\n",
    "plt.show()\n"
   ]
  },
  {
   "cell_type": "code",
   "execution_count": null,
   "metadata": {},
   "outputs": [],
   "source": [
    "# 'tb_incidence' is the column name for TB incidence\n",
    "tb_incidence_corr = correlation_matrix['tb_incidence'].drop('tb_incidence')\n",
    "\n",
    "# Sort correlations by absolute value to get the strongest correlations\n",
    "sorted_corr = tb_incidence_corr.abs().sort_values(ascending=False)\n",
    "\n",
    "# Display the top correlations (positive and negative)\n",
    "print(\"Top Correlations with TB Incidence:\")\n",
    "print(sorted_corr.head(20))  # Top 20\n",
    "print(\"\\n\")\n",
    "print(\"Bottom Correlations with TB Incidence:\")\n",
    "print(sorted_corr.tail(10))  # Bottom 10\n"
   ]
  }
 ],
 "metadata": {
  "kernelspec": {
   "display_name": "tbvenv",
   "language": "python",
   "name": "python3"
  },
  "language_info": {
   "codemirror_mode": {
    "name": "ipython",
    "version": 3
   },
   "file_extension": ".py",
   "mimetype": "text/x-python",
   "name": "python",
   "nbconvert_exporter": "python",
   "pygments_lexer": "ipython3",
   "version": "3.12.2"
  }
 },
 "nbformat": 4,
 "nbformat_minor": 2
}
