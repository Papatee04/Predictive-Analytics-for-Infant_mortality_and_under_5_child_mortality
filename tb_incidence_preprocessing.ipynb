{
 "cells": [
  {
   "cell_type": "code",
   "execution_count": 1,
   "metadata": {},
   "outputs": [
    {
     "name": "stdout",
     "output_type": "stream",
     "text": [
      "  country_name  year iso3_code  fragility  fragilityindex g_whoregion  \\\n",
      "0       Zambia  2000       ZMB  Neighbour            87.2         AFR   \n",
      "1       Zambia  2001       ZMB  Neighbour            87.2         AFR   \n",
      "2       Zambia  2002       ZMB  Neighbour            87.2         AFR   \n",
      "3       Zambia  2003       ZMB  Neighbour            87.2         AFR   \n",
      "4       Zambia  2004       ZMB  Neighbour            87.2         AFR   \n",
      "\n",
      "   gendertool gf_eligible_2016 gf_eligible_2018    globalplangroup  ...  \\\n",
      "0         NaN              Yes              Yes  High TB-HIV, SADC  ...   \n",
      "1         NaN              Yes              Yes  High TB-HIV, SADC  ...   \n",
      "2         NaN              Yes              Yes  High TB-HIV, SADC  ...   \n",
      "3         NaN              Yes              Yes  High TB-HIV, SADC  ...   \n",
      "4         NaN              Yes              Yes  High TB-HIV, SADC  ...   \n",
      "\n",
      "   used_2021_defs_flg xdr xdr_coh xdr_died  xdr_fail xdr_lost  xdr_succ xpert  \\\n",
      "0                 NaN NaN     NaN      NaN       NaN      NaN       NaN   NaN   \n",
      "1                 NaN NaN     NaN      NaN       NaN      NaN       NaN   NaN   \n",
      "2                 NaN NaN     NaN      NaN       NaN      NaN       NaN   NaN   \n",
      "3                 NaN NaN     NaN      NaN       NaN      NaN       NaN   NaN   \n",
      "4                 NaN NaN     NaN      NaN       NaN      NaN       NaN   NaN   \n",
      "\n",
      "   xpert_eqa  xpert_etrans  \n",
      "0        NaN           NaN  \n",
      "1        NaN           NaN  \n",
      "2        NaN           NaN  \n",
      "3        NaN           NaN  \n",
      "4        NaN           NaN  \n",
      "\n",
      "[5 rows x 934 columns]\n"
     ]
    }
   ],
   "source": [
    "import pandas as pd\n",
    "\n",
    "# Using pandas to load the CSV file into a DataFrame.\n",
    "# Inspecting the first few rows to understand the structure and content.\n",
    "df = pd.read_csv('stop_tb_data2.csv')\n",
    "print(df.head())\n",
    "\n"
   ]
  },
  {
   "cell_type": "code",
   "execution_count": 2,
   "metadata": {},
   "outputs": [
    {
     "name": "stdout",
     "output_type": "stream",
     "text": [
      "country_name       0\n",
      "year               0\n",
      "iso3_code          0\n",
      "fragility          0\n",
      "fragilityindex     0\n",
      "                  ..\n",
      "xdr_lost          20\n",
      "xdr_succ          20\n",
      "xpert             23\n",
      "xpert_eqa         23\n",
      "xpert_etrans      23\n",
      "Length: 934, dtype: int64\n",
      "country_name       0.000000\n",
      "year               0.000000\n",
      "iso3_code          0.000000\n",
      "fragility          0.000000\n",
      "fragilityindex     0.000000\n",
      "                    ...    \n",
      "xdr_lost          71.428571\n",
      "xdr_succ          71.428571\n",
      "xpert             82.142857\n",
      "xpert_eqa         82.142857\n",
      "xpert_etrans      82.142857\n",
      "Length: 934, dtype: float64\n"
     ]
    }
   ],
   "source": [
    "# Checking the number of missing values per column\n",
    "missing_values_count = df.isnull().sum()\n",
    "\n",
    "# Checking the percentage of missing values per column\n",
    "missing_values_percentage = df.isnull().mean() * 100\n",
    "\n",
    "# Print results\n",
    "print(missing_values_count)\n",
    "print(missing_values_percentage)\n"
   ]
  }
 ],
 "metadata": {
  "kernelspec": {
   "display_name": "tbvenv",
   "language": "python",
   "name": "python3"
  },
  "language_info": {
   "codemirror_mode": {
    "name": "ipython",
    "version": 3
   },
   "file_extension": ".py",
   "mimetype": "text/x-python",
   "name": "python",
   "nbconvert_exporter": "python",
   "pygments_lexer": "ipython3",
   "version": "3.12.2"
  }
 },
 "nbformat": 4,
 "nbformat_minor": 2
}
