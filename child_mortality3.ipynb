{
 "cells": [
  {
   "cell_type": "code",
   "execution_count": 1,
   "metadata": {},
   "outputs": [
    {
     "name": "stdout",
     "output_type": "stream",
     "text": [
      "   b5   b7    b8  v008     v005  v106  v025  v190  v101  v113\n",
      "0   1  NaN   0.0  1424  1892890     0     2     1     3    21\n",
      "1   1  NaN   6.0  1424  1892890     0     2     1     3    21\n",
      "2   1  NaN   8.0  1424  1892890     0     2     1     3    21\n",
      "3   1  NaN  11.0  1424  1892890     0     2     1     3    21\n",
      "4   0  2.0   NaN  1424  1892890     0     2     1     3    21                  b5           b7            b8         v008          v005  \\\n",
      "count  38446.000000  3495.000000  34951.000000  38446.00000  3.844600e+04   \n",
      "mean       0.909093    22.993133     10.156190   1425.79691  9.786958e+05   \n",
      "std        0.287480    45.009659      7.370261      1.59545  6.787447e+05   \n",
      "min        0.000000     0.000000      0.000000   1423.00000  5.194300e+04   \n",
      "25%        1.000000     0.000000      4.000000   1424.00000  5.905410e+05   \n",
      "50%        1.000000     8.000000      9.000000   1426.00000  8.217910e+05   \n",
      "75%        1.000000    24.000000     15.000000   1427.00000  1.147467e+06   \n",
      "max        1.000000   396.000000     37.000000   1429.00000  1.066516e+07   \n",
      "\n",
      "               v106          v025          v190         v101          v113  \n",
      "count  38446.000000  38446.000000  38446.000000  38446.00000  38446.000000  \n",
      "mean       1.180435      1.692920      2.668522      5.28817     27.542891  \n",
      "std        0.701137      0.461289      1.355975      2.79958     14.076804  \n",
      "min        0.000000      1.000000      1.000000      1.00000     11.000000  \n",
      "25%        1.000000      1.000000      1.000000      3.00000     21.000000  \n",
      "50%        1.000000      2.000000      3.000000      5.00000     31.000000  \n",
      "75%        2.000000      2.000000      4.000000      8.00000     32.000000  \n",
      "max        3.000000      2.000000      5.000000     10.00000     97.000000  \n",
      "Missing values per column:\n",
      " b5          0\n",
      "b7      34951\n",
      "b8       3495\n",
      "v008        0\n",
      "v005        0\n",
      "v106        0\n",
      "v025        0\n",
      "v190        0\n",
      "v101        0\n",
      "v113        0\n",
      "dtype: int64\n",
      "Imputation and preprocessing done!\n"
     ]
    }
   ],
   "source": [
    "# We're using these tools to help us work with data and make predictions\n",
    "import pandas as pd\n",
    "from sklearn.model_selection import train_test_split\n",
    "from sklearn.linear_model import LogisticRegression\n",
    "from sklearn.ensemble import RandomForestClassifier\n",
    "from sklearn.metrics import accuracy_score, precision_score, recall_score, roc_auc_score\n",
    "from sklearn.impute import SimpleImputer\n",
    "import statsmodels.api as sm\n",
    "import seaborn as sns\n",
    "import matplotlib.pyplot as plt\n",
    "\n",
    "# Load the dataset and check the headers and statistics\n",
    "file_path = 'C:/dhs_zm/ZMBR71DT_birth recode/ZMBR71FL.DTA'\n",
    "df = pd.read_stata(file_path, convert_categoricals=False)\n",
    "\n",
    "# Extracting important columns\n",
    "important_columns = ['b5', 'b7', 'b8', 'v008', 'v005', 'v106', 'v025', 'v190', 'v101', 'v113']\n",
    "\n",
    "# Check headers and statistics for the selected columns\n",
    "df_headers = df[important_columns].head()\n",
    "df_describe = df[important_columns].describe()\n",
    "\n",
    "print(df_headers, df_describe)\n",
    "\n",
    "# Check how many rows have missing values\n",
    "missing_info = df[important_columns].isnull().sum()\n",
    "print(\"Missing values per column:\\n\", missing_info)\n",
    "\n",
    "# If there are missing values, impute them\n",
    "imputer = SimpleImputer(strategy='most_frequent')\n",
    "df[important_columns] = imputer.fit_transform(df[important_columns])\n",
    "\n",
    "# Confirm dataset is not empty\n",
    "if df[important_columns].shape[0] == 0:\n",
    "    raise ValueError(\"Dataset is empty after preprocessing!\")\n",
    "\n",
    "print(\"Imputation and preprocessing done!\")\n"
   ]
  },
  {
   "cell_type": "code",
   "execution_count": 11,
   "metadata": {},
   "outputs": [
    {
     "name": "stdout",
     "output_type": "stream",
     "text": [
      "IMR (weighted): 56.14 per 1,000 live births\n",
      "U5MR (weighted): 88.22 per 1,000 live births\n"
     ]
    }
   ],
   "source": [
    "# Scale weights\n",
    "df['weight'] = df['v005'] / 1_000_000\n",
    "\n",
    "# Filter for births within 5 years preceding the survey\n",
    "current_month = df['v008'].max()\n",
    "five_year_cutoff = current_month - 60\n",
    "df_recent = df[df['v008'] >= five_year_cutoff]\n",
    "\n",
    "# Calculate weighted total live births\n",
    "weighted_total_births = df_recent[df_recent['b5'] == 1]['weight'].sum()\n",
    "\n",
    "# Calculate weighted infant deaths (age < 12 months)\n",
    "weighted_infant_deaths = df_recent[(df_recent['b5'] == 0) & (df_recent['b7'] < 12)]['weight'].sum()\n",
    "\n",
    "# Calculate weighted under-5 deaths (age < 60 months)\n",
    "weighted_under5_deaths = df_recent[(df_recent['b5'] == 0) & (df_recent['b7'] < 60)]['weight'].sum()\n",
    "\n",
    "# Calculate IMR and U5MR\n",
    "imr = (weighted_infant_deaths / weighted_total_births) * 1000\n",
    "u5mr = (weighted_under5_deaths / weighted_total_births) * 1000\n",
    "\n",
    "print(f\"IMR (weighted): {imr:.2f} per 1,000 live births\")\n",
    "print(f\"U5MR (weighted): {u5mr:.2f} per 1,000 live births\")\n"
   ]
  },
  {
   "cell_type": "code",
   "execution_count": null,
   "metadata": {},
   "outputs": [],
   "source": []
  },
  {
   "cell_type": "code",
   "execution_count": null,
   "metadata": {},
   "outputs": [],
   "source": []
  }
 ],
 "metadata": {
  "kernelspec": {
   "display_name": "TBVENV",
   "language": "python",
   "name": "python3"
  },
  "language_info": {
   "codemirror_mode": {
    "name": "ipython",
    "version": 3
   },
   "file_extension": ".py",
   "mimetype": "text/x-python",
   "name": "python",
   "nbconvert_exporter": "python",
   "pygments_lexer": "ipython3",
   "version": "3.12.2"
  }
 },
 "nbformat": 4,
 "nbformat_minor": 2
}
