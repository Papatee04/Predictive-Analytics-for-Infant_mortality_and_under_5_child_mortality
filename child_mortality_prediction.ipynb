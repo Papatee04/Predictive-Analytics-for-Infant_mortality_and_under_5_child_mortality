{
 "cells": [
  {
   "cell_type": "code",
   "execution_count": 6,
   "metadata": {},
   "outputs": [
    {
     "name": "stderr",
     "output_type": "stream",
     "text": [
      "C:\\Users\\tlche\\AppData\\Local\\Temp\\ipykernel_23056\\2247547712.py:13: PerformanceWarning: DataFrame is highly fragmented.  This is usually the result of calling `frame.insert` many times, which has poor performance.  Consider joining all columns at once using pd.concat(axis=1) instead. To get a de-fragmented frame, use `newframe = frame.copy()`\n",
      "  df['child_alive'] = df[b5_columns].apply(lambda x: x.any(), axis=1).astype(int)\n"
     ]
    },
    {
     "name": "stdout",
     "output_type": "stream",
     "text": [
      "Top Correlations with 'child_alive':\n",
      " child_alive    1.000000\n",
      "s1205          0.973329\n",
      "v220           0.672344\n",
      "v219           0.622415\n",
      "v218           0.621654\n",
      "v502           0.617962\n",
      "v224           0.603842\n",
      "v201           0.603842\n",
      "v535           0.589213\n",
      "v525           0.571609\n",
      "Name: child_alive, dtype: float64\n",
      "\n",
      "Logistic Regression Results:\n",
      "Accuracy: 0.999269272926562\n",
      "Precision: 0.9990234375\n",
      "Recall: 1.0\n",
      "AUC: 0.9985528219971057\n",
      "\n",
      "Random Forest Results:\n",
      "Accuracy: 1.0\n",
      "Precision: 1.0\n",
      "Recall: 1.0\n",
      "AUC: 1.0\n"
     ]
    }
   ],
   "source": [
    "import pandas as pd\n",
    "from sklearn.model_selection import train_test_split\n",
    "from sklearn.linear_model import LogisticRegression\n",
    "from sklearn.ensemble import RandomForestClassifier\n",
    "from sklearn.metrics import accuracy_score, precision_score, recall_score, roc_auc_score\n",
    "from sklearn.impute import SimpleImputer\n",
    "\n",
    "# Load the dataset without automatic categorical conversion\n",
    "df = pd.read_stata('C:/dhs data/datasets/ZMIR71DT/ZMIR71FL.DTA', convert_categoricals=False)\n",
    "\n",
    "# Combine b5_01 to b5_20 columns into a binary 'child_alive' column\n",
    "b5_columns = [f'b5_{i:02d}' for i in range(1, 21)]\n",
    "df['child_alive'] = df[b5_columns].apply(lambda x: x.any(), axis=1).astype(int)\n",
    "\n",
    "# Select only numeric columns for correlation\n",
    "numeric_df = df.select_dtypes(include=['number'])\n",
    "\n",
    "# Check top correlations with 'child_alive'\n",
    "correlations = numeric_df.corr()['child_alive'].sort_values(ascending=False).head(10)\n",
    "print(\"Top Correlations with 'child_alive':\\n\", correlations)\n",
    "\n",
    "# Select the top correlated features for the model (excluding 'child_alive')\n",
    "top_features = ['s1205', 'v220', 'v219', 'v218', 'v502', 'v224', 'v201', 'v535', 'v525']\n",
    "\n",
    "# Define the feature matrix X and the target variable y\n",
    "X = df[top_features]\n",
    "y = df['child_alive']\n",
    "\n",
    "# Handle missing values by filling them with the median of each column\n",
    "imputer = SimpleImputer(strategy='median')\n",
    "X = imputer.fit_transform(X)  # Impute the missing values in X\n",
    "\n",
    "# Split the data into training and testing sets (80% training, 20% testing)\n",
    "X_train, X_test, y_train, y_test = train_test_split(X, y, test_size=0.2, random_state=42)\n",
    "\n",
    "# 1. Logistic Regression Model\n",
    "lr_model = LogisticRegression(max_iter=1000)  # Increased max_iter to avoid convergence issues\n",
    "lr_model.fit(X_train, y_train)\n",
    "y_pred_lr = lr_model.predict(X_test)\n",
    "\n",
    "# Evaluate Logistic Regression\n",
    "print(\"\\nLogistic Regression Results:\")\n",
    "print(\"Accuracy:\", accuracy_score(y_test, y_pred_lr))\n",
    "print(\"Precision:\", precision_score(y_test, y_pred_lr))\n",
    "print(\"Recall:\", recall_score(y_test, y_pred_lr))\n",
    "print(\"AUC:\", roc_auc_score(y_test, y_pred_lr))\n",
    "\n",
    "# 2. Random Forest Model\n",
    "rf_model = RandomForestClassifier(n_estimators=100, random_state=42)\n",
    "rf_model.fit(X_train, y_train)\n",
    "y_pred_rf = rf_model.predict(X_test)\n",
    "\n",
    "# Evaluate Random Forest\n",
    "print(\"\\nRandom Forest Results:\")\n",
    "print(\"Accuracy:\", accuracy_score(y_test, y_pred_rf))\n",
    "print(\"Precision:\", precision_score(y_test, y_pred_rf))\n",
    "print(\"Recall:\", recall_score(y_test, y_pred_rf))\n",
    "print(\"AUC:\", roc_auc_score(y_test, y_pred_rf))\n",
    "\n",
    "# Optionally, you can add more models if needed\n"
   ]
  },
  {
   "cell_type": "code",
   "execution_count": null,
   "metadata": {},
   "outputs": [],
   "source": []
  }
 ],
 "metadata": {
  "kernelspec": {
   "display_name": "tbvenv",
   "language": "python",
   "name": "python3"
  },
  "language_info": {
   "codemirror_mode": {
    "name": "ipython",
    "version": 3
   },
   "file_extension": ".py",
   "mimetype": "text/x-python",
   "name": "python",
   "nbconvert_exporter": "python",
   "pygments_lexer": "ipython3",
   "version": "3.12.2"
  }
 },
 "nbformat": 4,
 "nbformat_minor": 2
}
